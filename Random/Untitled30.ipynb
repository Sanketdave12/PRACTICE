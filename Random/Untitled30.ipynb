{
 "cells": [
  {
   "cell_type": "code",
   "execution_count": 1,
   "metadata": {},
   "outputs": [],
   "source": [
    "import socket"
   ]
  },
  {
   "cell_type": "code",
   "execution_count": 5,
   "metadata": {},
   "outputs": [],
   "source": [
    "s = socket.socket()"
   ]
  },
  {
   "cell_type": "code",
   "execution_count": 18,
   "metadata": {},
   "outputs": [
    {
     "name": "stdout",
     "output_type": "stream",
     "text": [
      "           \n",
      "          **\n",
      "         ****\n",
      "        ******\n",
      "       ********\n",
      "      **********\n",
      "     ************\n",
      "    **************\n",
      "   ****************\n",
      "  ******************\n",
      " ********************\n",
      " ********************\n",
      "  ******************\n",
      "   ****************\n",
      "    **************\n",
      "     ************\n",
      "      **********\n",
      "       ********\n",
      "        ******\n",
      "         ****\n",
      "          **\n"
     ]
    }
   ],
   "source": [
    "for i in range(0,11):\n",
    "    print(\" \"*(11-i)+\"*\"*i+\"*\"*i)\n",
    "for j in range(1,11):\n",
    "    print(\" \"*j+\"*\"*(11-j)+\"*\"*(11-j))"
   ]
  },
  {
   "cell_type": "code",
   "execution_count": 31,
   "metadata": {},
   "outputs": [
    {
     "name": "stdout",
     "output_type": "stream",
     "text": [
      "**********************\n",
      "**********  **********\n",
      "*********    *********\n",
      "********      ********\n",
      "*******        *******\n",
      "******          ******\n",
      "*****            *****\n",
      "****              ****\n",
      "***                ***\n",
      "**                  **\n",
      "*                    *\n",
      "**                  **\n",
      "***                ***\n",
      "****              ****\n",
      "*****            *****\n",
      "******          ******\n",
      "*******        *******\n",
      "********      ********\n",
      "*********    *********\n",
      "**********  **********\n",
      "**********************\n"
     ]
    }
   ],
   "source": [
    "for i in range(0,11):\n",
    "    print((\"*\"*(11-i)+\" \"*i)+(\" \"*i+\"*\"*(11-i)))\n",
    "for j in range(2,12):\n",
    "    print((\"*\"*j+\" \"*(11-j))+(\" \"*(11-j)+\"*\"*j))"
   ]
  },
  {
   "cell_type": "code",
   "execution_count": 41,
   "metadata": {},
   "outputs": [
    {
     "name": "stdout",
     "output_type": "stream",
     "text": [
      "Enter the number:5\n",
      "* * * * * \n",
      "* * * * * \n",
      "* * * * * \n",
      "* * * * * \n",
      "* * * * * \n"
     ]
    }
   ],
   "source": [
    "n = int(input(\"Enter the number:\"))\n",
    "for i in range(0,n):\n",
    "    print(\"* \"*n)"
   ]
  },
  {
   "cell_type": "code",
   "execution_count": null,
   "metadata": {},
   "outputs": [],
   "source": []
  }
 ],
 "metadata": {
  "kernelspec": {
   "display_name": "Python 3",
   "language": "python",
   "name": "python3"
  },
  "language_info": {
   "codemirror_mode": {
    "name": "ipython",
    "version": 3
   },
   "file_extension": ".py",
   "mimetype": "text/x-python",
   "name": "python",
   "nbconvert_exporter": "python",
   "pygments_lexer": "ipython3",
   "version": "3.7.3"
  }
 },
 "nbformat": 4,
 "nbformat_minor": 2
}
