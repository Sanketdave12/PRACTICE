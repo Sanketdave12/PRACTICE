{
 "cells": [
  {
   "cell_type": "code",
   "execution_count": 3,
   "metadata": {},
   "outputs": [
    {
     "name": "stdout",
     "output_type": "stream",
     "text": [
      "ENTER THE AGE : 56\n",
      "YOU ARE ELIGIBLE FOR LOAN\n",
      "1.Governement\n",
      "2.private3\n",
      "cant \n"
     ]
    }
   ],
   "source": [
    "age=int(input('ENTER THE AGE : '))\n",
    "if age<18:\n",
    "    print('Not eligible')\n",
    "else:\n",
    "    job=int(input('YOU ARE ELIGIBLE FOR LOAN\\n1.Governement\\n2.private'))\n",
    "    if job==1:\n",
    "        print('U will get the loan')\n",
    "    elif job==2:\n",
    "        print('U Will not get loan')\n",
    "    else:\n",
    "        print('can''t ')"
   ]
  },
  {
   "cell_type": "code",
   "execution_count": 7,
   "metadata": {},
   "outputs": [
    {
     "name": "stdout",
     "output_type": "stream",
     "text": [
      "ENTER THE NUMBER : 5\n",
      "5 * 1 = 5\n",
      "5 * 2 = 10\n",
      "5 * 3 = 15\n",
      "5 * 4 = 20\n",
      "5 * 5 = 25\n",
      "5 * 6 = 30\n",
      "5 * 7 = 35\n",
      "5 * 8 = 40\n",
      "5 * 9 = 45\n",
      "5 * 10 = 50\n"
     ]
    }
   ],
   "source": [
    "a= int(input('ENTER THE NUMBER : '))\n",
    "for i in range(1,11):\n",
    "    m=a*i\n",
    "    print(a,\"*\",i,\"=\",m)"
   ]
  },
  {
   "cell_type": "code",
   "execution_count": null,
   "metadata": {},
   "outputs": [],
   "source": [
    "while True:\n",
    "    b= int(input('ENTER THE NUMBER TO SQUARE : '))\n",
    "    print('square=',b**2)\n",
    "    if input('Press Any key to continue'):\n",
    "        continue\n",
    "    else:\n",
    "        print('I am useless')\n",
    "        break"
   ]
  },
  {
   "cell_type": "code",
   "execution_count": null,
   "metadata": {},
   "outputs": [],
   "source": [
    "a= int(input('ENTER THE NUMBER : '))\n",
    "i=1\n",
    "while i<=10:\n",
    "    m=a*i\n",
    "    \n",
    "    print(a,\"*\",i,\"=\",m)\n",
    "    i+=1"
   ]
  },
  {
   "cell_type": "code",
   "execution_count": null,
   "metadata": {},
   "outputs": [],
   "source": [
    "while True:\n",
    "    b= int(input('ENTER THE NUMBER TO SQUARE : '))\n",
    "    print('square=',b**2)\n",
    "    if input('Press Any key to continue'):\n",
    "        continue\n",
    "    else:\n",
    "        print('I am useless')\n",
    "        break"
   ]
  },
  {
   "cell_type": "code",
   "execution_count": null,
   "metadata": {},
   "outputs": [],
   "source": []
  }
 ],
 "metadata": {
  "kernelspec": {
   "display_name": "Python 3",
   "language": "python",
   "name": "python3"
  },
  "language_info": {
   "codemirror_mode": {
    "name": "ipython",
    "version": 3
   },
   "file_extension": ".py",
   "mimetype": "text/x-python",
   "name": "python",
   "nbconvert_exporter": "python",
   "pygments_lexer": "ipython3",
   "version": "3.7.3"
  }
 },
 "nbformat": 4,
 "nbformat_minor": 2
}
