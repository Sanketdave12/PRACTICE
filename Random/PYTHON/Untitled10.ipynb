{
 "cells": [
  {
   "cell_type": "code",
   "execution_count": 2,
   "metadata": {},
   "outputs": [
    {
     "name": "stdout",
     "output_type": "stream",
     "text": [
      "*\n",
      "**\n",
      "***\n",
      "****\n",
      "*****\n",
      "******\n",
      "*******\n",
      "********\n",
      "*********\n",
      "**********\n"
     ]
    }
   ],
   "source": [
    "for i in range(1,11):\n",
    "    print(\"*\"*i)"
   ]
  },
  {
   "cell_type": "code",
   "execution_count": 4,
   "metadata": {},
   "outputs": [
    {
     "name": "stdout",
     "output_type": "stream",
     "text": [
      "**********\n",
      "*********\n",
      "********\n",
      "*******\n",
      "******\n",
      "*****\n",
      "****\n",
      "***\n",
      "**\n",
      "*\n"
     ]
    }
   ],
   "source": [
    "for j in range(1,11):\n",
    "    print(\"*\"*(11-j))"
   ]
  },
  {
   "cell_type": "code",
   "execution_count": 7,
   "metadata": {},
   "outputs": [
    {
     "name": "stdout",
     "output_type": "stream",
     "text": [
      " **********\n",
      "  *********\n",
      "   ********\n",
      "    *******\n",
      "     ******\n",
      "      *****\n",
      "       ****\n",
      "        ***\n",
      "         **\n",
      "          *\n"
     ]
    }
   ],
   "source": [
    "for k in range(1,11):\n",
    "    print(' '*k+\"*\"*(11-k))"
   ]
  },
  {
   "cell_type": "code",
   "execution_count": 15,
   "metadata": {},
   "outputs": [
    {
     "name": "stdout",
     "output_type": "stream",
     "text": [
      "          *\n",
      "         **\n",
      "        ***\n",
      "       ****\n",
      "      *****\n",
      "     ******\n",
      "    *******\n",
      "   ********\n",
      "  *********\n",
      " **********\n"
     ]
    }
   ],
   "source": [
    "for l in range(1,11):\n",
    "    print(' '*(11-l)+\"*\"*l)"
   ]
  },
  {
   "cell_type": "code",
   "execution_count": 34,
   "metadata": {},
   "outputs": [
    {
     "name": "stdout",
     "output_type": "stream",
     "text": [
      "********************************************\n",
      "*********************  *********************\n",
      "********************    ********************\n",
      "*******************      *******************\n",
      "******************        ******************\n",
      "*****************          *****************\n",
      "****************            ****************\n",
      "***************              ***************\n",
      "**************                **************\n",
      "*************                  *************\n",
      "************                    ************\n",
      "***********                      ***********\n",
      "**********                        **********\n",
      "*********                          *********\n",
      "********                            ********\n",
      "*******                              *******\n",
      "******                                ******\n",
      "*****                                  *****\n",
      "****                                    ****\n",
      "***                                      ***\n",
      "**                                        **\n",
      "*                                          *\n",
      "**                                        **\n",
      "***                                      ***\n",
      "****                                    ****\n",
      "*****                                  *****\n",
      "******                                ******\n",
      "*******                              *******\n",
      "********                            ********\n",
      "*********                          *********\n",
      "**********                        **********\n",
      "***********                      ***********\n",
      "************                    ************\n",
      "*************                  *************\n",
      "**************                **************\n",
      "***************              ***************\n",
      "****************            ****************\n",
      "*****************          *****************\n",
      "******************        ******************\n",
      "*******************      *******************\n",
      "********************    ********************\n",
      "*********************  *********************\n"
     ]
    }
   ],
   "source": [
    "for j in range(0,22):\n",
    "    print((\"*\"*(22-j))+('  '*j+\"*\"*(22-j)))\n",
    "for i in range(2,22):\n",
    "    print((\"*\"*i)+('  '*(22-i)+\"*\"*i))"
   ]
  },
  {
   "cell_type": "code",
   "execution_count": 22,
   "metadata": {},
   "outputs": [
    {
     "data": {
      "text/plain": [
       "'***********'"
      ]
     },
     "execution_count": 22,
     "metadata": {},
     "output_type": "execute_result"
    }
   ],
   "source": [
    "\"*\"*11"
   ]
  },
  {
   "cell_type": "code",
   "execution_count": 3,
   "metadata": {},
   "outputs": [
    {
     "name": "stdout",
     "output_type": "stream",
     "text": [
      "Enter the Number:153\n",
      "27\n",
      "152\n",
      "153\n",
      "Armstrong\n"
     ]
    }
   ],
   "source": [
    "b =int(input(\"Enter the Number:\"))\n",
    "c=b\n",
    "r=0\n",
    "r1=0\n",
    "while(b>0):\n",
    "    r = int(b%10)\n",
    "    r1= r1 + r**3\n",
    "    b=int(b/10)\n",
    "    print(r1)\n",
    "if r1==c:\n",
    "    print(\"Armstrong\")\n",
    "else:\n",
    "    print(\"Not\")"
   ]
  },
  {
   "cell_type": "code",
   "execution_count": null,
   "metadata": {},
   "outputs": [],
   "source": []
  }
 ],
 "metadata": {
  "kernelspec": {
   "display_name": "Python 3",
   "language": "python",
   "name": "python3"
  },
  "language_info": {
   "codemirror_mode": {
    "name": "ipython",
    "version": 3
   },
   "file_extension": ".py",
   "mimetype": "text/x-python",
   "name": "python",
   "nbconvert_exporter": "python",
   "pygments_lexer": "ipython3",
   "version": "3.7.3"
  }
 },
 "nbformat": 4,
 "nbformat_minor": 2
}
