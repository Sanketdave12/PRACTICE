{
 "cells": [
  {
   "cell_type": "code",
   "execution_count": 1,
   "metadata": {},
   "outputs": [
    {
     "name": "stdout",
     "output_type": "stream",
     "text": [
      "HARAKH RAVAL\n"
     ]
    }
   ],
   "source": [
    "print(\"HARAKH RAVAL\")"
   ]
  },
  {
   "cell_type": "code",
   "execution_count": 2,
   "metadata": {},
   "outputs": [],
   "source": [
    "a=4\n",
    "b=5\n",
    "c=a+b\n"
   ]
  },
  {
   "cell_type": "code",
   "execution_count": 3,
   "metadata": {},
   "outputs": [
    {
     "name": "stdout",
     "output_type": "stream",
     "text": [
      "9\n"
     ]
    }
   ],
   "source": [
    "print(c)"
   ]
  },
  {
   "cell_type": "code",
   "execution_count": 5,
   "metadata": {},
   "outputs": [
    {
     "name": "stdout",
     "output_type": "stream",
     "text": [
      "THE SUM OF TWO NUMBERS:\n",
      "12\n"
     ]
    }
   ],
   "source": [
    "a=5\n",
    "b=7\n",
    "c=a+b\n",
    "print(\"THE SUM OF TWO NUMBERS:\")\n",
    "print(c)\n"
   ]
  },
  {
   "cell_type": "code",
   "execution_count": 6,
   "metadata": {},
   "outputs": [
    {
     "name": "stdout",
     "output_type": "stream",
     "text": [
      "sdgsdkhsdkfhsdkfhsdlfhsdfhasdlfhsdlfhslfihsalfsahlf\n",
      "knsdkfsdkfjsdlfsjf;sflasnf;sajf;fjsdjfnskflfnjfbffufgsdfusgfufgeufegfeufgefuegfufegfuegfeufgeufgefugef\n"
     ]
    }
   ],
   "source": [
    "print(\"sdgsdkhsdkfhsdkfhsdlfhsdfhasdlfhsdlfhslfihsalfsahlf\")\n",
    "print(\"knsdkfsdkfjsdlfsjf;sflasnf;sajf;fjsdjfnskflfnjfbffufgsdfusgfufgeufegfeufgefuegfufegfuegfeufgeufgefugef\")"
   ]
  },
  {
   "cell_type": "code",
   "execution_count": null,
   "metadata": {},
   "outputs": [],
   "source": []
  }
 ],
 "metadata": {
  "kernelspec": {
   "display_name": "Python 3",
   "language": "python",
   "name": "python3"
  },
  "language_info": {
   "codemirror_mode": {
    "name": "ipython",
    "version": 3
   },
   "file_extension": ".py",
   "mimetype": "text/x-python",
   "name": "python",
   "nbconvert_exporter": "python",
   "pygments_lexer": "ipython3",
   "version": "3.7.3"
  }
 },
 "nbformat": 4,
 "nbformat_minor": 2
}
