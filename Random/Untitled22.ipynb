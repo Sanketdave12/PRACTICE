{
 "cells": [
  {
   "cell_type": "code",
   "execution_count": 6,
   "metadata": {},
   "outputs": [
    {
     "name": "stdout",
     "output_type": "stream",
     "text": [
      "18\n",
      "Not weird\n"
     ]
    }
   ],
   "source": [
    "n= int(input())\n",
    "if n%2==0 and range(2,6):\n",
    "    print(\"Not weird\")\n",
    "elif n%2==0 and range(6,21):\n",
    "    pritn(\"Weird\")\n",
    "elif n%2==0 and 20<n:\n",
    "    print('weird')\n",
    "else:\n",
    "    \n",
    "    print(\"Weird\")\n",
    "    "
   ]
  },
  {
   "cell_type": "code",
   "execution_count": null,
   "metadata": {},
   "outputs": [],
   "source": []
  }
 ],
 "metadata": {
  "kernelspec": {
   "display_name": "Python 3",
   "language": "python",
   "name": "python3"
  },
  "language_info": {
   "codemirror_mode": {
    "name": "ipython",
    "version": 3
   },
   "file_extension": ".py",
   "mimetype": "text/x-python",
   "name": "python",
   "nbconvert_exporter": "python",
   "pygments_lexer": "ipython3",
   "version": "3.7.3"
  }
 },
 "nbformat": 4,
 "nbformat_minor": 2
}
