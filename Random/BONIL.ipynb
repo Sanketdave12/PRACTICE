{
 "cells": [
  {
   "cell_type": "code",
   "execution_count": 70,
   "metadata": {},
   "outputs": [
    {
     "name": "stdout",
     "output_type": "stream",
     "text": [
      "Enter the Text:is\n",
      "IN ENTIRE FILE is IS REPEATED FOR 6 TIMES\n"
     ]
    }
   ],
   "source": [
    "import PyPDF2 \n",
    "pdfFileObj = open(r\"C:\\Users\\SD\\Downloads\\sdd.pdf\", 'rb') \n",
    "pdfReader = PyPDF2.PdfFileReader(pdfFileObj)  \n",
    "s = pdfReader.getPage(0)\n",
    "d = s\n",
    "e = (d.extractText())\n",
    "e.split()  \n",
    "pdfFileObj.close() \n",
    "s = e.split()\n",
    "x = input(\"Enter the Text:\")\n",
    "c= 0\n",
    "for i in s:\n",
    "    if i==x:\n",
    "        c+=1\n",
    "print(\"IN ENTIRE FILE {} IS REPEATED FOR {} TIMES\".format(x,c))"
   ]
  }
 ],
 "metadata": {
  "kernelspec": {
   "display_name": "Python 3",
   "language": "python",
   "name": "python3"
  },
  "language_info": {
   "codemirror_mode": {
    "name": "ipython",
    "version": 3
   },
   "file_extension": ".py",
   "mimetype": "text/x-python",
   "name": "python",
   "nbconvert_exporter": "python",
   "pygments_lexer": "ipython3",
   "version": "3.7.3"
  }
 },
 "nbformat": 4,
 "nbformat_minor": 2
}
