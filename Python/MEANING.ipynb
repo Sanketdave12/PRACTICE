{
 "cells": [
  {
   "cell_type": "code",
   "execution_count": 2,
   "metadata": {},
   "outputs": [
    {
     "name": "stdout",
     "output_type": "stream",
     "text": [
      "{'Noun': ['a concave cut into a surface or edge (as in a coastline', 'the formation of small pits in a surface as a consequence of corrosion', 'the space left between the margin and the start of an indented line', 'the act of cutting into an edge with toothlike notches or angular incisions']}\n"
     ]
    }
   ],
   "source": [
    "from PyDictionary import PyDictionary\n",
    "dictionary = PyDictionary()\n",
    "print(dictionary.meaning('indentation'))"
   ]
  },
  {
   "cell_type": "code",
   "execution_count": 9,
   "metadata": {},
   "outputs": [],
   "source": [
    "from PyDictionary import PyDictionary\n",
    "from tkinter import Entry,LEFT,Button ,Tk ,Label\n",
    "\n",
    "global data\n",
    "\n",
    "def search(dictionary_entry,results):\n",
    "    dictionary = PyDictionary()\n",
    "    try:\n",
    "        data = dictionary.meaning(dictionary_entry.get())\n",
    "        data = data['Noun']\n",
    "        test=''\n",
    "        \n",
    "        for data_ in data:\n",
    "            text = text + '\\n\\n' + str(data_)\n",
    "        \n",
    "        results.configure(text = text , wraplength = 300 , justify =LEFT)\n",
    "    \n",
    "    except:\n",
    "        results.configure(text = 'Check the spelling \\n check your connection \\n', wraplength = 300 , justify = LEFT)\n",
    "\n",
    "def ui():\n",
    "    root = Tk()\n",
    "    root.title('Dictionary | Sanket Dave')\n",
    "    heading = Label(root, text = 'Dictionary' , font = ('Times',40))\n",
    "    dictionary_entry = Entry(root)\n",
    "    results = Label(root)\n",
    "    search_button = Button(root, text ='Search', command = lambda:search (dictionary_entry,results))\n",
    "    \n",
    "    heading.grid(row=0,columnspan=2)\n",
    "    dictionary_entry.grid(row=1,column=0)\n",
    "    search_button.grid(row=1,column=1)\n",
    "    results.grid(row=2,columnspan=2)\n",
    "    \n",
    "    root.mainloop()\n",
    "\n",
    "if __name__=='__ main__':\n",
    "    ui()"
   ]
  },
  {
   "cell_type": "code",
   "execution_count": null,
   "metadata": {},
   "outputs": [],
   "source": []
  }
 ],
 "metadata": {
  "kernelspec": {
   "display_name": "Python 3",
   "language": "python",
   "name": "python3"
  },
  "language_info": {
   "codemirror_mode": {
    "name": "ipython",
    "version": 3
   },
   "file_extension": ".py",
   "mimetype": "text/x-python",
   "name": "python",
   "nbconvert_exporter": "python",
   "pygments_lexer": "ipython3",
   "version": "3.8.3"
  }
 },
 "nbformat": 4,
 "nbformat_minor": 4
}
