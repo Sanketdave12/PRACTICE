{
 "cells": [
  {
   "cell_type": "code",
   "execution_count": 8,
   "metadata": {},
   "outputs": [
    {
     "name": "stdout",
     "output_type": "stream",
     "text": [
      "always run\n"
     ]
    }
   ],
   "source": [
    "try:\n",
    "    f = open('testfile.txt','w')\n",
    "    f.write(\"Hehe\")\n",
    "except TypeError as e:\n",
    "    print(\"hachvin lakho\",e)\n",
    "    \n",
    "except OSError:\n",
    "    print(\"os error\")\n",
    "\n",
    "finally:\n",
    "    print(\"always run\")"
   ]
  },
  {
   "cell_type": "code",
   "execution_count": 7,
   "metadata": {},
   "outputs": [
    {
     "name": "stdout",
     "output_type": "stream",
     "text": [
      "os error\n",
      "always run\n"
     ]
    }
   ],
   "source": [
    "try:\n",
    "    f = open('testfile.txt','r')\n",
    "    f.write(\"Hehe\")\n",
    "except TypeError as e:\n",
    "    print(\"hachvin lakho\",e)\n",
    "    \n",
    "except OSError:\n",
    "    print(\"os error\")\n",
    "\n",
    "finally:\n",
    "    print(\"always run\")"
   ]
  },
  {
   "cell_type": "code",
   "execution_count": 6,
   "metadata": {},
   "outputs": [
    {
     "name": "stdout",
     "output_type": "stream",
     "text": [
      "hachvin lakho unsupported operand type(s) for +: 'int' and 'str'\n",
      "always run\n"
     ]
    }
   ],
   "source": [
    "try:\n",
    "    f = open('testfile.txt','w')\n",
    "    f.write(\"Hehe\")\n",
    "    result = 10 + '10'\n",
    "except TypeError as e:\n",
    "    print(\"hachvin lakho\",e)\n",
    "    \n",
    "except OSError:\n",
    "    print(\"os error\")\n",
    "\n",
    "finally:\n",
    "    print(\"always run\")"
   ]
  },
  {
   "cell_type": "code",
   "execution_count": 9,
   "metadata": {},
   "outputs": [],
   "source": [
    "def ask_for_int():\n",
    "    try:\n",
    "        r = int(input(\"Enter the number: \"))\n",
    "    except:\n",
    "        print(\"Entered number is not a number\")\n",
    "    finally:\n",
    "        print(\"Navro\")"
   ]
  },
  {
   "cell_type": "code",
   "execution_count": 10,
   "metadata": {},
   "outputs": [
    {
     "name": "stdout",
     "output_type": "stream",
     "text": [
      "Enter the number: 4\n",
      "Navro\n"
     ]
    }
   ],
   "source": [
    "ask_for_int()"
   ]
  },
  {
   "cell_type": "code",
   "execution_count": 16,
   "metadata": {},
   "outputs": [
    {
     "name": "stdout",
     "output_type": "stream",
     "text": [
      "division by zero\n",
      "ALL DONE!\n"
     ]
    }
   ],
   "source": [
    "x=5\n",
    "y=0\n",
    "\n",
    "try:\n",
    "    z =x/y\n",
    "except ZeroDivisionError as e:\n",
    "    print(e)\n",
    "finally:\n",
    "    print(\"ALL DONE!\")"
   ]
  },
  {
   "cell_type": "code",
   "execution_count": 30,
   "metadata": {},
   "outputs": [],
   "source": [
    "def square():\n",
    "    while True:\n",
    "        try:\n",
    "            a = int(input(\"Enter the number: \"))\n",
    "\n",
    "        except:\n",
    "            print(\"An error occured , please try again! \\n\")\n",
    "            continue\n",
    "        \n",
    "        else:\n",
    "            break\n",
    "            \n",
    "    print(\"Your squared number is\",a**2)"
   ]
  },
  {
   "cell_type": "code",
   "execution_count": 31,
   "metadata": {},
   "outputs": [
    {
     "name": "stdout",
     "output_type": "stream",
     "text": [
      "Enter the number: f\n",
      "An error occured , please try again! \n",
      "\n",
      "Enter the number: f\n",
      "An error occured , please try again! \n",
      "\n",
      "Enter the number: s\n",
      "An error occured , please try again! \n",
      "\n",
      "Enter the number: 5\n",
      "Your squared number is 25\n"
     ]
    }
   ],
   "source": [
    "square()"
   ]
  },
  {
   "cell_type": "code",
   "execution_count": null,
   "metadata": {},
   "outputs": [],
   "source": [
    "esa"
   ]
  }
 ],
 "metadata": {
  "kernelspec": {
   "display_name": "Python 3",
   "language": "python",
   "name": "python3"
  },
  "language_info": {
   "codemirror_mode": {
    "name": "ipython",
    "version": 3
   },
   "file_extension": ".py",
   "mimetype": "text/x-python",
   "name": "python",
   "nbconvert_exporter": "python",
   "pygments_lexer": "ipython3",
   "version": "3.8.3"
  }
 },
 "nbformat": 4,
 "nbformat_minor": 4
}
